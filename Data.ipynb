{
  "nbformat": 4,
  "nbformat_minor": 0,
  "metadata": {
    "colab": {
      "provenance": [],
      "history_visible": true,
      "mount_file_id": "1BIFWVNHzESjnIrp1LjLD1YvWACwrIFXw",
      "authorship_tag": "ABX9TyNa22eKBf2v2xr2pSL7/yze",
      "include_colab_link": true
    },
    "kernelspec": {
      "name": "python3",
      "display_name": "Python 3"
    },
    "language_info": {
      "name": "python"
    }
  },
  "cells": [
    {
      "cell_type": "markdown",
      "metadata": {
        "id": "view-in-github",
        "colab_type": "text"
      },
      "source": [
        "<a href=\"https://colab.research.google.com/github/mihneaciorica/Market-Discovery-Challenge/blob/main/Data.ipynb\" target=\"_parent\"><img src=\"https://colab.research.google.com/assets/colab-badge.svg\" alt=\"Open In Colab\"/></a>"
      ]
    },
    {
      "cell_type": "code",
      "execution_count": 4,
      "metadata": {
        "colab": {
          "base_uri": "https://localhost:8080/"
        },
        "id": "LOYi2wFOGPR9",
        "outputId": "e326ac41-9e6e-4ab5-e666-0bd340f67262"
      },
      "outputs": [
        {
          "output_type": "stream",
          "name": "stdout",
          "text": [
            "Collecting fastparquet\n",
            "  Downloading fastparquet-2023.7.0-cp310-cp310-manylinux_2_17_x86_64.manylinux2014_x86_64.whl (1.5 MB)\n",
            "\u001b[2K     \u001b[90m━━━━━━━━━━━━━━━━━━━━━━━━━━━━━━━━━━━━━━━━\u001b[0m \u001b[32m1.5/1.5 MB\u001b[0m \u001b[31m19.5 MB/s\u001b[0m eta \u001b[36m0:00:00\u001b[0m\n",
            "\u001b[?25hRequirement already satisfied: pandas>=1.5.0 in /usr/local/lib/python3.10/dist-packages (from fastparquet) (1.5.3)\n",
            "Requirement already satisfied: numpy>=1.20.3 in /usr/local/lib/python3.10/dist-packages (from fastparquet) (1.22.4)\n",
            "Collecting cramjam>=2.3 (from fastparquet)\n",
            "  Downloading cramjam-2.6.2-cp310-cp310-manylinux_2_17_x86_64.manylinux2014_x86_64.whl (2.0 MB)\n",
            "\u001b[2K     \u001b[90m━━━━━━━━━━━━━━━━━━━━━━━━━━━━━━━━━━━━━━━━\u001b[0m \u001b[32m2.0/2.0 MB\u001b[0m \u001b[31m66.5 MB/s\u001b[0m eta \u001b[36m0:00:00\u001b[0m\n",
            "\u001b[?25hRequirement already satisfied: fsspec in /usr/local/lib/python3.10/dist-packages (from fastparquet) (2023.6.0)\n",
            "Requirement already satisfied: packaging in /usr/local/lib/python3.10/dist-packages (from fastparquet) (23.1)\n",
            "Requirement already satisfied: python-dateutil>=2.8.1 in /usr/local/lib/python3.10/dist-packages (from pandas>=1.5.0->fastparquet) (2.8.2)\n",
            "Requirement already satisfied: pytz>=2020.1 in /usr/local/lib/python3.10/dist-packages (from pandas>=1.5.0->fastparquet) (2022.7.1)\n",
            "Requirement already satisfied: six>=1.5 in /usr/local/lib/python3.10/dist-packages (from python-dateutil>=2.8.1->pandas>=1.5.0->fastparquet) (1.16.0)\n",
            "Installing collected packages: cramjam, fastparquet\n",
            "Successfully installed cramjam-2.6.2 fastparquet-2023.7.0\n"
          ]
        }
      ],
      "source": [
        "\n",
        "!pip install --upgrade pyarrow\n",
        "\n",
        "!pip install fastparquet"
      ]
    },
    {
      "cell_type": "markdown",
      "source": [
        "Marketing Challenge"
      ],
      "metadata": {
        "id": "tmFpqrckGQZ1"
      }
    },
    {
      "cell_type": "markdown",
      "source": [
        "#Reading the data\n"
      ],
      "metadata": {
        "id": "hCNVBG0SGUe5"
      }
    },
    {
      "cell_type": "code",
      "source": [
        "from types import TracebackType\n",
        "import pyarrow.parquet as pq\n",
        "import pandas as pd\n",
        "import os\n",
        "import subprocess\n",
        "\n",
        "os.chdir('/content/drive/MyDrive/Colab Notebooks/')\n",
        "os.getcwd()\n",
        "\n",
        "#result=subprocess.run(['ls' ,'-lh'],capture_output=True, text=True)\n",
        "#print(result.stdout)\n",
        "\n",
        "\n",
        "# Read the Parquet file\n",
        "table = pd.read_parquet('company-data-general-info.snappy.parquet',engine='fastparquet')\n",
        "\n",
        "# Convert to a Pandas DataFrame\n",
        "#df = table.to_pandas()\n",
        "\n",
        "# Perform operations on the DataFrame\n",
        "print(table.head())\n"
      ],
      "metadata": {
        "colab": {
          "base_uri": "https://localhost:8080/"
        },
        "id": "novP-fVoGY3b",
        "outputId": "d260bab5-5c44-4eef-a0c9-e75e7532d155"
      },
      "execution_count": 1,
      "outputs": [
        {
          "output_type": "stream",
          "name": "stdout",
          "text": [
            "                           soleadify_id                           veridion_id  \\\n",
            "0  015f5bf0-0326-11ec-86c4-11061f524d5f  015f5bf0-0326-11ec-86c4-11061f524d5f   \n",
            "1  0197f351-0028-11ec-96f6-3549fd2a32c9  0197f351-0028-11ec-96f6-3549fd2a32c9   \n",
            "2  01ba9030-cd00-11eb-9e6f-71c672115f33  01ba9030-cd00-11eb-9e6f-71c672115f33   \n",
            "3  01f242e2-93e5-11eb-be5a-4f810ab55f2e  01f242e2-93e5-11eb-be5a-4f810ab55f2e   \n",
            "4  01f43623-0b6f-11ec-a720-c144e265b048  01f43623-0b6f-11ec-a720-c144e265b048   \n",
            "\n",
            "              company_name                company_legal_names  \\\n",
            "0        Anugrah Esa Mulia                               None   \n",
            "1        Bonus Entreprises                               None   \n",
            "2         Plaza De La Raza  [Child Development Services Inc.]   \n",
            "3  Industrial Realty Group     [Industrial Realty Group LLC.]   \n",
            "4       Elizabeth de Trejo                               None   \n",
            "\n",
            "                            company_commercial_names main_country_code  \\\n",
            "0                                [Anugrah Esa Mulia]                ID   \n",
            "1                                [Bonus Entreprises]                BE   \n",
            "2  [Plaza De La Raza, Plaza de la Raza CDS, Plaza...                US   \n",
            "3                          [Industrial Realty Group]                US   \n",
            "4              [Elizabeth de Trejo, Studio De Trejo]                US   \n",
            "\n",
            "    main_country      main_region main_city_district           main_city  ...  \\\n",
            "0      Indonesia        West Java               None               Bogor  ...   \n",
            "1        Belgium  Walloon Brabant               None  Walhain-Saint-Paul  ...   \n",
            "2  United States       California   City Of Industry            El Monte  ...   \n",
            "3  United States       California           Sawtelle         Los Angeles  ...   \n",
            "4  United States         New York          Manhattan            New York  ...   \n",
            "\n",
            "                                          sic_labels  \\\n",
            "0  [Nondurable Goods, NEC (merchant wholesalers e...   \n",
            "1  [Heavy Construction Equipment Rental and Leasi...   \n",
            "2  [Individual and Family Social Services (child ...   \n",
            "3  [Real Estate Agents and Managers (nonresidenti...   \n",
            "4  [Bands, Orchestras, Actors, and Other Entertai...   \n",
            "\n",
            "                                ibc_insurance_labels  \\\n",
            "0                                               None   \n",
            "1                                               None   \n",
            "2  [Community / Civic / Special Interest Groups (...   \n",
            "3  [Building Owner - Multiple Occupancy - Mixed-U...   \n",
            "4  [Music / Sound Recording Studio, Photographers...   \n",
            "\n",
            "                        ibc_insurance_codes          created_at  \\\n",
            "0                                      None 2021-08-21 17:48:14   \n",
            "1                                      None 2021-08-18 11:59:35   \n",
            "2  [864401, 864301, 830101, 832301, 867301] 2021-05-19 07:00:05   \n",
            "3  [399101, 529101, 658001, 663303, 663201] 2019-11-24 00:03:27   \n",
            "4  [489102, 729201, 832201, 792701, 832501] 2021-09-01 20:40:12   \n",
            "\n",
            "          last_updated_at website_number_of_pages  \\\n",
            "0 2023-05-03 10:13:16.494                    25.0   \n",
            "1 2023-05-31 03:08:24.452                    10.0   \n",
            "2 2023-05-31 09:56:18.733                    24.0   \n",
            "3 2023-06-13 17:22:00.344                    40.0   \n",
            "4 2023-01-20 01:29:36.390                     7.0   \n",
            "\n",
            "                              website_external_links website_technical_issues  \\\n",
            "0  [instagram.com, gmpg.org, facebook.com, linked...                     None   \n",
            "1                       [proxidesign.be, marlux.com]                       []   \n",
            "2  [instagram.com, paycomonline.net, siteassets.p...                       []   \n",
            "3  [gmpg.org, facebook.com, s.w.org, fonts.google...                       []   \n",
            "4  [instagram.com, facebook.com, s.w.org, emi-vie...                       []   \n",
            "\n",
            "   seo_score  seo_issues  \n",
            "0       None        None  \n",
            "1       None          []  \n",
            "2       None          []  \n",
            "3       None          []  \n",
            "4       None          []  \n",
            "\n",
            "[5 rows x 68 columns]\n"
          ]
        }
      ]
    },
    {
      "cell_type": "code",
      "source": [],
      "metadata": {
        "id": "h3hd3fmmy-2Z"
      },
      "execution_count": null,
      "outputs": []
    },
    {
      "cell_type": "code",
      "source": [
        "print(table.columns)"
      ],
      "metadata": {
        "colab": {
          "base_uri": "https://localhost:8080/"
        },
        "id": "LXsrbrWfyfhJ",
        "outputId": "0bf1d451-e18c-4482-90a0-234e3fd26f70"
      },
      "execution_count": 2,
      "outputs": [
        {
          "output_type": "stream",
          "name": "stdout",
          "text": [
            "Index(['soleadify_id', 'veridion_id', 'company_name', 'company_legal_names',\n",
            "       'company_commercial_names', 'main_country_code', 'main_country',\n",
            "       'main_region', 'main_city_district', 'main_city', 'main_postcode',\n",
            "       'main_street', 'main_street_number', 'main_latitude', 'main_longitude',\n",
            "       'locations', 'num_locations', 'company_type', 'year_founded',\n",
            "       'employee_count', 'estimated_revenue', 'short_description',\n",
            "       'long_description', 'business_tags', 'business_model', 'product_type',\n",
            "       'naics_vertical', 'primary_naics6_code', 'primary_naics6_label',\n",
            "       'secondary_naics6_codes', 'secondary_naics6_labels',\n",
            "       'aggregated_sector', 'aggregated_industry', 'main_business_category',\n",
            "       'main_industry', 'main_sector', 'website_url', 'website_domain',\n",
            "       'website_tld', 'website_language_code', 'facebook_url', 'twitter_url',\n",
            "       'instagram_url', 'linkedin_url', 'ios_app_url', 'android_app_url',\n",
            "       'youtube_url', 'tiktok_url', 'cms', 'alexa_rank', 'technologies',\n",
            "       'sics_codified_industry', 'sics_codified_industry_code',\n",
            "       'sics_codified_subsector', 'sics_codified_subsector_code',\n",
            "       'sics_codified_sector', 'sics_codified_sector_code', 'sic_codes',\n",
            "       'sic_labels', 'ibc_insurance_labels', 'ibc_insurance_codes',\n",
            "       'created_at', 'last_updated_at', 'website_number_of_pages',\n",
            "       'website_external_links', 'website_technical_issues', 'seo_score',\n",
            "       'seo_issues'],\n",
            "      dtype='object')\n"
          ]
        }
      ]
    },
    {
      "cell_type": "code",
      "source": [
        "for column in table.columns:\n",
        "  print(table[column][1])"
      ],
      "metadata": {
        "colab": {
          "base_uri": "https://localhost:8080/"
        },
        "id": "U2-gK2Pa0x28",
        "outputId": "8881d064-8f8a-4e8a-ce9a-1d096b1c5ef9"
      },
      "execution_count": 6,
      "outputs": [
        {
          "output_type": "stream",
          "name": "stdout",
          "text": [
            "0197f351-0028-11ec-96f6-3549fd2a32c9\n",
            "0197f351-0028-11ec-96f6-3549fd2a32c9\n",
            "Bonus Entreprises\n",
            "None\n",
            "['Bonus Entreprises']\n",
            "BE\n",
            "Belgium\n",
            "Walloon Brabant\n",
            "None\n",
            "Walhain-Saint-Paul\n",
            "1457\n",
            "Rue Bourgmestre Gilisquet\n",
            "21\n",
            "50.62162399291992\n",
            "4.697251796722412\n",
            "None\n",
            "2.0\n",
            "Private\n",
            "nan\n",
            "1.0\n",
            "nan\n",
            "Bonus Entreprises est le spécialiste de l'aménagement de jardin paysager en Brabant Wallon depuis plus de 30 ans. Aménagement de terrasse extérieur.\n",
            "Nous sommes spécialistes dans les aménagements extérieurs: jardin, terrasse, pièce d'eau,. Nous avons acquis tous les moyens techniques et équipements pour réaliser au mieux notre travail. Notre philosophie est d'éclairer les clients qui nous font confiance, sur les contraintes d'espace, géologiques ou contextuelles et budgétaire afin d'adapter au mieux le « rêvé » au « possible ». Nous accompagnons nos clients dans la selection de matériaux les plus adaptés. Nous construisons des structures intégrées à leur paysage, car-port, cabanes,. Spécialisés dans l'étude de structures de soutènement, gabion, bois,. Nous maîtrisons toutes les situations d'abattage et élagage en assurant le broyage et élagage. Bonus Entreprises s'occupe de l'aménagement de vos jardins et de son suivi avec vous.\n",
            "['Outdoor Amenities', 'Garden And Landscapes', 'Retainment And Walls', 'Patios And Landscaping', 'Environmental Compliance', 'Beautiful Gardens']\n",
            "Services\n",
            "Professional Services\n",
            "Tile and Terrazzo Contractors\n",
            "238990\n",
            "All Other Specialty Trade Contractors\n",
            "['541320']\n",
            "['Landscape Architectural Services']\n",
            "Construction\n",
            "Finishing Contractors\n",
            "Pavers\n",
            "Construction\n",
            "None\n",
            "http://www.bonus-entreprises.be/\n",
            "bonus-entreprises.be\n",
            "be\n",
            "fr\n",
            "None\n",
            "None\n",
            "None\n",
            "http://www.linkedin.com/company/bonus---entreprises\n",
            "None\n",
            "None\n",
            "None\n",
            "\n",
            "joomla\n",
            "None\n",
            "['javascript frameworks: mootools', 'javascript frameworks: jquery - 1.8', 'javascript libraries: jquery - 1.8', 'reverse proxy: nginx', 'font scripts: font awesome', 'javascript libraries: jquery ui', 'javascript frameworks: jquery ui', 'web servers: nginx', 'programming languages: php', 'cms: joomla']\n",
            "Engineering & Construction Services\n",
            "IF-EN\n",
            "Infrastructure\n",
            "IF.2\n",
            "Infrastructure\n",
            "IF\n",
            "['7353', '1771', '1799']\n",
            "['Heavy Construction Equipment Rental and Leasing (crane rental with operator)', 'Concrete Work (asphalt, brick, and concrete paving)', 'Special Trade Contractors, NEC (except indoor swimming pool contractors; anchored earth retention contractors; glass tinting work; forming contractors; ornamental metal work contractors; lightning rod installation contractors; paint and wall paper removal contractors; countertop, residential-type, installation; miscellaneous residential building finishing contractors; dewatering contractors; test drilling for construction; and core drilling for construction)']\n",
            "None\n",
            "None\n",
            "2021-08-18 11:59:35\n",
            "2023-05-31 03:08:24.452000\n",
            "10.0\n",
            "['proxidesign.be', 'marlux.com']\n",
            "[]\n",
            "None\n",
            "[]\n"
          ]
        }
      ]
    },
    {
      "cell_type": "code",
      "source": [
        "print(table.dtypes)"
      ],
      "metadata": {
        "colab": {
          "base_uri": "https://localhost:8080/"
        },
        "id": "e9ZyJqwAymjR",
        "outputId": "e3752e15-82d9-4e3a-e11b-11cfa9b7a9aa"
      },
      "execution_count": 3,
      "outputs": [
        {
          "output_type": "stream",
          "name": "stdout",
          "text": [
            "soleadify_id                 object\n",
            "veridion_id                  object\n",
            "company_name                 object\n",
            "company_legal_names          object\n",
            "company_commercial_names     object\n",
            "                             ...   \n",
            "website_number_of_pages     float64\n",
            "website_external_links       object\n",
            "website_technical_issues     object\n",
            "seo_score                    object\n",
            "seo_issues                   object\n",
            "Length: 68, dtype: object\n"
          ]
        }
      ]
    },
    {
      "cell_type": "code",
      "source": [
        "table.head().to_csv('table.txt', sep='\\t', index=False)"
      ],
      "metadata": {
        "id": "lIP0jlN9zALE"
      },
      "execution_count": 4,
      "outputs": []
    }
  ]
}